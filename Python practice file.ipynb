{
 "cells": [
  {
   "cell_type": "markdown",
   "id": "f5a4d9a0",
   "metadata": {},
   "source": [
    "## Python practice questions"
   ]
  },
  {
   "cell_type": "markdown",
   "id": "936f3dc7",
   "metadata": {},
   "source": [
    "Q1. Multiples of 2"
   ]
  },
  {
   "cell_type": "code",
   "execution_count": 1,
   "id": "33670cdd",
   "metadata": {},
   "outputs": [
    {
     "name": "stdout",
     "output_type": "stream",
     "text": [
      "11\n",
      "2 X 0 = 0\n",
      "2 X 1 = 2\n",
      "2 X 2 = 4\n",
      "2 X 3 = 6\n",
      "2 X 4 = 8\n",
      "2 X 5 = 10\n",
      "2 X 6 = 12\n",
      "2 X 7 = 14\n",
      "2 X 8 = 16\n",
      "2 X 9 = 18\n",
      "2 X 10 = 20\n"
     ]
    }
   ],
   "source": [
    "n=int(input())\n",
    "for i in range(0,n):\n",
    "    print('2 X',i,'=',i*2)"
   ]
  },
  {
   "cell_type": "markdown",
   "id": "52b5aea8",
   "metadata": {},
   "source": [
    "Q2. print the multiples of 15 before and after 225"
   ]
  },
  {
   "cell_type": "code",
   "execution_count": 2,
   "id": "80dc07ca",
   "metadata": {},
   "outputs": [
    {
     "name": "stdout",
     "output_type": "stream",
     "text": [
      "5\n",
      "0\n",
      "15\n",
      "30\n",
      "45\n",
      "60\n"
     ]
    }
   ],
   "source": [
    "n=int(input())\n",
    "for i in range(0,n):\n",
    "    if i!=15:\n",
    "        print(i*15)"
   ]
  },
  {
   "cell_type": "markdown",
   "id": "1f288e73",
   "metadata": {},
   "source": [
    "Q3. Fibonacci sequence"
   ]
  },
  {
   "cell_type": "code",
   "execution_count": 3,
   "id": "4de884fd",
   "metadata": {},
   "outputs": [
    {
     "name": "stdout",
     "output_type": "stream",
     "text": [
      "5\n",
      "1\n",
      "2\n",
      "3\n",
      "5\n",
      "8\n",
      "13\n"
     ]
    }
   ],
   "source": [
    "a=0\n",
    "b=1\n",
    "num=int(input())\n",
    "for i in range(0,num+1):\n",
    "    c=a+b\n",
    "    a=b\n",
    "    b=c\n",
    "    print(c)"
   ]
  },
  {
   "cell_type": "markdown",
   "id": "76b97ae5",
   "metadata": {},
   "source": [
    "Q4. Write a Python program that takes a string as input and counts the number of vowels in the string."
   ]
  },
  {
   "cell_type": "code",
   "execution_count": 7,
   "id": "c6b638de",
   "metadata": {},
   "outputs": [],
   "source": [
    "def cnt_vowels(input_string):\n",
    "    vowels='AEIOUaeiou'\n",
    "    count=0\n",
    "    for i in input_string:\n",
    "        if i in vowels:\n",
    "            count+=1\n",
    "    return count"
   ]
  },
  {
   "cell_type": "code",
   "execution_count": 9,
   "id": "a5ef150d",
   "metadata": {},
   "outputs": [
    {
     "name": "stdout",
     "output_type": "stream",
     "text": [
      "Enter a name: shiva kumar\n"
     ]
    },
    {
     "data": {
      "text/plain": [
       "4"
      ]
     },
     "execution_count": 9,
     "metadata": {},
     "output_type": "execute_result"
    }
   ],
   "source": [
    "name=input('Enter a name: ')\n",
    "cnt_vowels(name)"
   ]
  },
  {
   "cell_type": "markdown",
   "id": "4eccde67",
   "metadata": {},
   "source": [
    "Q5. Write a Python program that takes a year as input and determines if it is a leap year"
   ]
  },
  {
   "cell_type": "code",
   "execution_count": 23,
   "id": "839c3e80",
   "metadata": {},
   "outputs": [
    {
     "name": "stdout",
     "output_type": "stream",
     "text": [
      "Enter the year: 2024\n",
      "2024 is a leap year\n"
     ]
    }
   ],
   "source": [
    "input_year=int(input('Enter the year: '))\n",
    "\n",
    "if input_year%4==0:\n",
    "    print(input_year,'is a leap year')\n",
    "else: print(input_year,'is Not a leap year') "
   ]
  },
  {
   "cell_type": "markdown",
   "id": "fcff3f8e",
   "metadata": {},
   "source": [
    "Q6. Write a Python program that takes a non-negative integer as input and returns its factorial"
   ]
  },
  {
   "cell_type": "code",
   "execution_count": 26,
   "id": "b335851f",
   "metadata": {},
   "outputs": [
    {
     "name": "stdout",
     "output_type": "stream",
     "text": [
      "Enter a number: 6\n",
      "1\n",
      "2\n",
      "6\n",
      "24\n",
      "120\n",
      "720\n"
     ]
    }
   ],
   "source": [
    "integer=int(input('Enter a number: '))\n",
    "number=1\n",
    "\n",
    "for i in range(1,integer+1):\n",
    "    number*=i\n",
    "    print(number)"
   ]
  },
  {
   "cell_type": "markdown",
   "id": "01b1e56b",
   "metadata": {},
   "source": [
    "Q7. Extract the duplicate values from list"
   ]
  },
  {
   "cell_type": "code",
   "execution_count": 27,
   "id": "fd71b1a1",
   "metadata": {},
   "outputs": [
    {
     "name": "stdout",
     "output_type": "stream",
     "text": [
      "[4, 5, 3, 6, 21]\n"
     ]
    }
   ],
   "source": [
    "a1=[1,2,3,5,4,4,5,3,6,6,21,21]\n",
    "a2=list()\n",
    "a3=list()\n",
    "\n",
    "for i in a1:\n",
    "    if i in a2:\n",
    "        a3.append(i)\n",
    "    else: a2.append(i)\n",
    "print(a3)"
   ]
  },
  {
   "cell_type": "markdown",
   "id": "78333406",
   "metadata": {},
   "source": [
    "Q8. Write a Python program that takes an integer as input and prints whether it is even or odd"
   ]
  },
  {
   "cell_type": "code",
   "execution_count": 33,
   "id": "a5c2a2a7",
   "metadata": {},
   "outputs": [
    {
     "name": "stdout",
     "output_type": "stream",
     "text": [
      "Enter a number: 6\n",
      "6 is even number\n"
     ]
    }
   ],
   "source": [
    "input_int=int(input('Enter a number: '))\n",
    "\n",
    "if input_int%2==0:\n",
    "    print(input_int,'is even number')\n",
    "else: print(input_int,'is odd number')"
   ]
  },
  {
   "cell_type": "markdown",
   "id": "49af467f",
   "metadata": {},
   "source": [
    "Q9. Write a Python function that merges two dictionaries, combining values for matching keys in a list."
   ]
  },
  {
   "cell_type": "code",
   "execution_count": 57,
   "id": "6c3cb62d",
   "metadata": {},
   "outputs": [
    {
     "name": "stdout",
     "output_type": "stream",
     "text": [
      "{'Name': ['Shiva', 'Kumar'], 'Score': [50, 75], 'Subject': ['Python', 'SQL']}\n"
     ]
    }
   ],
   "source": [
    "Dict1={'Name':'Shiva','Score':50,'Subject':'Python'}\n",
    "Dict2={'Name':'Kumar','Score':75,'Subject':'SQL'}\n",
    "Dict3={}\n",
    "\n",
    "for i,j in Dict1.items():\n",
    "    if i in Dict3:\n",
    "        Dict3[i].append(j)\n",
    "    else: Dict3[i]=[j]\n",
    "        \n",
    "for i,j in Dict2.items():\n",
    "    if i in Dict3:\n",
    "        Dict3[i].append(j)\n",
    "    else: Dict3[i]=[j] \n",
    "        \n",
    "print(Dict3)"
   ]
  },
  {
   "cell_type": "markdown",
   "id": "834ff0ac",
   "metadata": {},
   "source": [
    "Q10. Create a 3dimensional array"
   ]
  },
  {
   "cell_type": "code",
   "execution_count": 73,
   "id": "e050dfd1",
   "metadata": {},
   "outputs": [],
   "source": [
    "import numpy as np\n",
    "\n",
    "array1=np.array([[[1,2,3],[2,3,4],[3,4,5]],[[7,8,9],[8,9,10],[10,11,12]],[[11,12,13],[12,13,14],[13,14,15]]])"
   ]
  },
  {
   "cell_type": "code",
   "execution_count": 74,
   "id": "b2e09822",
   "metadata": {},
   "outputs": [
    {
     "data": {
      "text/plain": [
       "array([[[ 1,  2,  3],\n",
       "        [ 2,  3,  4],\n",
       "        [ 3,  4,  5]],\n",
       "\n",
       "       [[ 7,  8,  9],\n",
       "        [ 8,  9, 10],\n",
       "        [10, 11, 12]],\n",
       "\n",
       "       [[11, 12, 13],\n",
       "        [12, 13, 14],\n",
       "        [13, 14, 15]]])"
      ]
     },
     "execution_count": 74,
     "metadata": {},
     "output_type": "execute_result"
    }
   ],
   "source": [
    "array1"
   ]
  },
  {
   "cell_type": "code",
   "execution_count": 75,
   "id": "be0a77f7",
   "metadata": {},
   "outputs": [
    {
     "data": {
      "text/plain": [
       "(3, 3, 3)"
      ]
     },
     "execution_count": 75,
     "metadata": {},
     "output_type": "execute_result"
    }
   ],
   "source": [
    "array1.shape"
   ]
  },
  {
   "cell_type": "code",
   "execution_count": null,
   "id": "e0cc5cee",
   "metadata": {},
   "outputs": [],
   "source": []
  }
 ],
 "metadata": {
  "kernelspec": {
   "display_name": "Python 3 (ipykernel)",
   "language": "python",
   "name": "python3"
  },
  "language_info": {
   "codemirror_mode": {
    "name": "ipython",
    "version": 3
   },
   "file_extension": ".py",
   "mimetype": "text/x-python",
   "name": "python",
   "nbconvert_exporter": "python",
   "pygments_lexer": "ipython3",
   "version": "3.11.5"
  }
 },
 "nbformat": 4,
 "nbformat_minor": 5
}
